{
 "cells": [
  {
   "cell_type": "markdown",
   "metadata": {},
   "source": [
    "# **Peer-graded Assignment: Capstone Project - The Battle of Neighborhoods (Week 1)**"
   ]
  },
  {
   "cell_type": "markdown",
   "metadata": {},
   "source": [
    "**1) Introduction/Business Problem**\n"
   ]
  },
  {
   "cell_type": "markdown",
   "metadata": {},
   "source": [
    "Asian food has become one of the favorite cuisine of poeple from all over the world. There are many Asian food lovers in Toronto as well.\n",
    "\n",
    "So, the idea of this study is to help people who are planning to open a new Asian restaurant in Toronto, to choose the right location by providing data about the income and population of each neighborhood.\n",
    "\n",
    "Prior launching any restaurant, it’s important to know if the business as a good opportunity. In order to do so, this report will try to gather data about other restaurant localization, competitors and best localization.\n",
    "\n",
    "This data could be use for a business plan afterward."
   ]
  }
 ],
 "metadata": {
  "kernelspec": {
   "display_name": "Python 3",
   "language": "python",
   "name": "python3"
  },
  "language_info": {
   "codemirror_mode": {
    "name": "ipython",
    "version": 3
   },
   "file_extension": ".py",
   "mimetype": "text/x-python",
   "name": "python",
   "nbconvert_exporter": "python",
   "pygments_lexer": "ipython3",
   "version": "3.8.2"
  }
 },
 "nbformat": 4,
 "nbformat_minor": 4
}
