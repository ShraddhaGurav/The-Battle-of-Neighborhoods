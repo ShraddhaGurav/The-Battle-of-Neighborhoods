{
 "cells": [
  {
   "cell_type": "markdown",
   "metadata": {},
   "source": [
    "# **Peer-graded Assignment: Capstone Project - The Battle of Neighborhoods (Week 1)**"
   ]
  },
  {
   "cell_type": "markdown",
   "metadata": {},
   "source": [
    "**1) Introduction/Business Problem**\n"
   ]
  },
  {
   "cell_type": "markdown",
   "metadata": {},
   "source": [
    "Asian food has acquired popularity across the world and the main reason for this is the taste that food offers. \n",
    "It offers you so many types of dishes that will satisfy your hunger buds and will also keep you healthy. Apart from being tasty and healthy, it is much cheaper and won't burn a hole in your pockets.\n",
    "\n",
    "Asian cuisine has so many options - Central Asian, East Asian, South Asian, South East Asian, West Asian.\n",
    "The Asian cuisine is very popular that the restaurants are established in so many countries around the world. You can enjoy the taste from anywhere in the world. Toronto also has some good restaurants which offer Asian food.\n",
    "\n",
    "So, the idea of this study is to help people who are planning to open a new Asian restaurant in Toronto, to choose the right location by providing data about the income and population of each neighborhood. The study will also help those who are interested in trying different types food by providing them different options of dining at an Asian Restaurant.\n",
    "\n",
    "Prior launching any restaurant, it’s important to know if the business has a good opportunity. In order to do so, the factors we have to take into consideration are as follows,\n",
    "- Market Places\n",
    "- Competition in particular location\n",
    "- Aiding places that make people come to restaurants like Gym, Entertaining Public places\n",
    "- Population\n",
    "- Menu from competitors\n",
    "- Income of people resinding in the neighborhood\n",
    "\n",
    "This data could be used for a business plan afterward."
   ]
  },
  {
   "cell_type": "code",
   "execution_count": null,
   "metadata": {},
   "outputs": [],
   "source": []
  }
 ],
 "metadata": {
  "kernelspec": {
   "display_name": "Python 3",
   "language": "python",
   "name": "python3"
  },
  "language_info": {
   "codemirror_mode": {
    "name": "ipython",
    "version": 3
   },
   "file_extension": ".py",
   "mimetype": "text/x-python",
   "name": "python",
   "nbconvert_exporter": "python",
   "pygments_lexer": "ipython3",
   "version": "3.8.2"
  }
 },
 "nbformat": 4,
 "nbformat_minor": 4
}
